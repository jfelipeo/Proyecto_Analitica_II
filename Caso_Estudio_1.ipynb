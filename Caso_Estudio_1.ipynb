{
 "cells": [
  {
   "cell_type": "markdown",
   "metadata": {},
   "source": [
    "# Caso de estudio 1\n",
    "## Integrantes:\n",
    "* Aura Molina\n",
    "* Yackeline Cristina Quintero López\n",
    "* Juan José Toro\n",
    "* Juan Felipe Osorio Lopez\n",
    "\n",
    "## Desarrollo del caso de estudio\n",
    "* a. Diseño de solución propuesto\n",
    "* b. Limpieza y transformación de los datos\n",
    "* c. Análisis exploratorio de los datos\n",
    "* d. Preparación de los datos\n",
    "* e. Selección de variables\n",
    "* f. Selección y aplicación de algoritmos/ técnicas de modelado (al menos 3 algoritmos\n",
    "vistos en clase)\n",
    "* g. Comparación y selección de técnicas\n",
    "* h. Afinamiento de hiperparámetros\n",
    "* i. Evaluación y análisis del mejor modelo\n",
    "* j. Conclusiones finales y recomendaciones"
   ]
  },
  {
   "cell_type": "code",
   "execution_count": null,
   "metadata": {},
   "outputs": [],
   "source": []
  }
 ],
 "metadata": {
  "kernelspec": {
   "display_name": "Python 3",
   "language": "python",
   "name": "python3"
  },
  "language_info": {
   "name": "python",
   "version": "3.12.2"
  }
 },
 "nbformat": 4,
 "nbformat_minor": 2
}
